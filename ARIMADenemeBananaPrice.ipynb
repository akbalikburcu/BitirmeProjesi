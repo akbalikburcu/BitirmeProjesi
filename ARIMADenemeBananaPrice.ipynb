{
 "cells": [
  {
   "cell_type": "code",
   "execution_count": 1,
   "metadata": {},
   "outputs": [
    {
     "name": "stderr",
     "output_type": "stream",
     "text": [
      "Loading required package: xts\n",
      "Loading required package: zoo\n",
      "\n",
      "Attaching package: 'zoo'\n",
      "\n",
      "The following objects are masked from 'package:base':\n",
      "\n",
      "    as.Date, as.Date.numeric\n",
      "\n"
     ]
    }
   ],
   "source": [
    "library(Quandl)"
   ]
  },
  {
   "cell_type": "code",
   "execution_count": 2,
   "metadata": {},
   "outputs": [
    {
     "data": {
      "text/html": [
       "<table>\n",
       "<thead><tr><th scope=col>Date</th><th scope=col>Value</th></tr></thead>\n",
       "<tbody>\n",
       "\t<tr><td>2017-06-30</td><td>1098.07   </td></tr>\n",
       "\t<tr><td>2017-05-31</td><td>1083.05   </td></tr>\n",
       "\t<tr><td>2017-04-30</td><td>1063.54   </td></tr>\n",
       "\t<tr><td>2017-03-31</td><td>1075.25   </td></tr>\n",
       "\t<tr><td>2017-02-28</td><td>1040.10   </td></tr>\n",
       "\t<tr><td>2017-01-31</td><td> 974.03   </td></tr>\n",
       "\t<tr><td>2016-12-31</td><td> 959.94   </td></tr>\n",
       "\t<tr><td>2016-11-30</td><td> 959.94   </td></tr>\n",
       "\t<tr><td>2016-10-31</td><td> 976.39   </td></tr>\n",
       "\t<tr><td>2016-09-30</td><td>1013.31   </td></tr>\n",
       "\t<tr><td>2016-08-31</td><td>1051.53   </td></tr>\n",
       "\t<tr><td>2016-07-31</td><td>1004.67   </td></tr>\n",
       "\t<tr><td>2016-06-30</td><td> 993.22   </td></tr>\n",
       "\t<tr><td>2016-05-31</td><td> 987.57   </td></tr>\n",
       "\t<tr><td>2016-04-30</td><td> 998.09   </td></tr>\n",
       "\t<tr><td>2016-03-31</td><td>1020.90   </td></tr>\n",
       "\t<tr><td>2016-02-29</td><td>1052.35   </td></tr>\n",
       "\t<tr><td>2016-01-31</td><td>1011.25   </td></tr>\n",
       "\t<tr><td>2015-12-31</td><td> 932.32   </td></tr>\n",
       "\t<tr><td>2015-11-30</td><td> 932.32   </td></tr>\n",
       "\t<tr><td>2015-10-31</td><td> 933.58   </td></tr>\n",
       "\t<tr><td>2015-09-30</td><td> 951.78   </td></tr>\n",
       "\t<tr><td>2015-08-31</td><td> 956.66   </td></tr>\n",
       "\t<tr><td>2015-07-31</td><td> 938.33   </td></tr>\n",
       "\t<tr><td>2015-06-30</td><td> 929.18   </td></tr>\n",
       "\t<tr><td>2015-05-31</td><td> 946.79   </td></tr>\n",
       "\t<tr><td>2015-04-30</td><td>1059.14   </td></tr>\n",
       "\t<tr><td>2015-03-31</td><td>1045.96   </td></tr>\n",
       "\t<tr><td>2015-02-28</td><td> 966.85   </td></tr>\n",
       "\t<tr><td>2015-01-31</td><td> 911.60   </td></tr>\n",
       "\t<tr><td>...</td><td>...</td></tr>\n",
       "\t<tr><td>1982-06-30</td><td>399.76    </td></tr>\n",
       "\t<tr><td>1982-05-31</td><td>438.35    </td></tr>\n",
       "\t<tr><td>1982-04-30</td><td>476.40    </td></tr>\n",
       "\t<tr><td>1982-03-31</td><td>421.81    </td></tr>\n",
       "\t<tr><td>1982-02-28</td><td>383.21    </td></tr>\n",
       "\t<tr><td>1982-01-31</td><td>425.12    </td></tr>\n",
       "\t<tr><td>1981-12-31</td><td>416.30    </td></tr>\n",
       "\t<tr><td>1981-11-30</td><td>395.90    </td></tr>\n",
       "\t<tr><td>1981-10-31</td><td>389.28    </td></tr>\n",
       "\t<tr><td>1981-09-30</td><td>435.04    </td></tr>\n",
       "\t<tr><td>1981-08-31</td><td>305.47    </td></tr>\n",
       "\t<tr><td>1981-07-31</td><td>329.73    </td></tr>\n",
       "\t<tr><td>1981-06-30</td><td>388.18    </td></tr>\n",
       "\t<tr><td>1981-05-31</td><td>449.93    </td></tr>\n",
       "\t<tr><td>1981-04-30</td><td>425.67    </td></tr>\n",
       "\t<tr><td>1981-03-31</td><td>459.31    </td></tr>\n",
       "\t<tr><td>1981-02-28</td><td>435.60    </td></tr>\n",
       "\t<tr><td>1981-01-31</td><td>387.62    </td></tr>\n",
       "\t<tr><td>1980-12-31</td><td>369.98    </td></tr>\n",
       "\t<tr><td>1980-11-30</td><td>379.35    </td></tr>\n",
       "\t<tr><td>1980-10-31</td><td>325.32    </td></tr>\n",
       "\t<tr><td>1980-09-30</td><td>352.89    </td></tr>\n",
       "\t<tr><td>1980-08-31</td><td>342.41    </td></tr>\n",
       "\t<tr><td>1980-07-31</td><td>351.78    </td></tr>\n",
       "\t<tr><td>1980-06-30</td><td>342.41    </td></tr>\n",
       "\t<tr><td>1980-05-31</td><td>444.97    </td></tr>\n",
       "\t<tr><td>1980-04-30</td><td>395.90    </td></tr>\n",
       "\t<tr><td>1980-03-31</td><td>422.91    </td></tr>\n",
       "\t<tr><td>1980-02-29</td><td>372.19    </td></tr>\n",
       "\t<tr><td>1980-01-31</td><td>401.96    </td></tr>\n",
       "</tbody>\n",
       "</table>\n"
      ],
      "text/latex": [
       "\\begin{tabular}{r|ll}\n",
       " Date & Value\\\\\n",
       "\\hline\n",
       "\t 2017-06-30 & 1098.07   \\\\\n",
       "\t 2017-05-31 & 1083.05   \\\\\n",
       "\t 2017-04-30 & 1063.54   \\\\\n",
       "\t 2017-03-31 & 1075.25   \\\\\n",
       "\t 2017-02-28 & 1040.10   \\\\\n",
       "\t 2017-01-31 &  974.03   \\\\\n",
       "\t 2016-12-31 &  959.94   \\\\\n",
       "\t 2016-11-30 &  959.94   \\\\\n",
       "\t 2016-10-31 &  976.39   \\\\\n",
       "\t 2016-09-30 & 1013.31   \\\\\n",
       "\t 2016-08-31 & 1051.53   \\\\\n",
       "\t 2016-07-31 & 1004.67   \\\\\n",
       "\t 2016-06-30 &  993.22   \\\\\n",
       "\t 2016-05-31 &  987.57   \\\\\n",
       "\t 2016-04-30 &  998.09   \\\\\n",
       "\t 2016-03-31 & 1020.90   \\\\\n",
       "\t 2016-02-29 & 1052.35   \\\\\n",
       "\t 2016-01-31 & 1011.25   \\\\\n",
       "\t 2015-12-31 &  932.32   \\\\\n",
       "\t 2015-11-30 &  932.32   \\\\\n",
       "\t 2015-10-31 &  933.58   \\\\\n",
       "\t 2015-09-30 &  951.78   \\\\\n",
       "\t 2015-08-31 &  956.66   \\\\\n",
       "\t 2015-07-31 &  938.33   \\\\\n",
       "\t 2015-06-30 &  929.18   \\\\\n",
       "\t 2015-05-31 &  946.79   \\\\\n",
       "\t 2015-04-30 & 1059.14   \\\\\n",
       "\t 2015-03-31 & 1045.96   \\\\\n",
       "\t 2015-02-28 &  966.85   \\\\\n",
       "\t 2015-01-31 &  911.60   \\\\\n",
       "\t ... & ...\\\\\n",
       "\t 1982-06-30 & 399.76    \\\\\n",
       "\t 1982-05-31 & 438.35    \\\\\n",
       "\t 1982-04-30 & 476.40    \\\\\n",
       "\t 1982-03-31 & 421.81    \\\\\n",
       "\t 1982-02-28 & 383.21    \\\\\n",
       "\t 1982-01-31 & 425.12    \\\\\n",
       "\t 1981-12-31 & 416.30    \\\\\n",
       "\t 1981-11-30 & 395.90    \\\\\n",
       "\t 1981-10-31 & 389.28    \\\\\n",
       "\t 1981-09-30 & 435.04    \\\\\n",
       "\t 1981-08-31 & 305.47    \\\\\n",
       "\t 1981-07-31 & 329.73    \\\\\n",
       "\t 1981-06-30 & 388.18    \\\\\n",
       "\t 1981-05-31 & 449.93    \\\\\n",
       "\t 1981-04-30 & 425.67    \\\\\n",
       "\t 1981-03-31 & 459.31    \\\\\n",
       "\t 1981-02-28 & 435.60    \\\\\n",
       "\t 1981-01-31 & 387.62    \\\\\n",
       "\t 1980-12-31 & 369.98    \\\\\n",
       "\t 1980-11-30 & 379.35    \\\\\n",
       "\t 1980-10-31 & 325.32    \\\\\n",
       "\t 1980-09-30 & 352.89    \\\\\n",
       "\t 1980-08-31 & 342.41    \\\\\n",
       "\t 1980-07-31 & 351.78    \\\\\n",
       "\t 1980-06-30 & 342.41    \\\\\n",
       "\t 1980-05-31 & 444.97    \\\\\n",
       "\t 1980-04-30 & 395.90    \\\\\n",
       "\t 1980-03-31 & 422.91    \\\\\n",
       "\t 1980-02-29 & 372.19    \\\\\n",
       "\t 1980-01-31 & 401.96    \\\\\n",
       "\\end{tabular}\n"
      ],
      "text/markdown": [
       "\n",
       "Date | Value | \n",
       "|---|---|---|---|---|---|---|---|---|---|---|---|---|---|---|---|---|---|---|---|---|---|---|---|---|---|---|---|---|---|---|---|---|---|---|---|---|---|---|---|---|---|---|---|---|---|---|---|---|---|---|---|---|---|---|---|---|---|---|---|---|\n",
       "| 2017-06-30 | 1098.07    | \n",
       "| 2017-05-31 | 1083.05    | \n",
       "| 2017-04-30 | 1063.54    | \n",
       "| 2017-03-31 | 1075.25    | \n",
       "| 2017-02-28 | 1040.10    | \n",
       "| 2017-01-31 |  974.03    | \n",
       "| 2016-12-31 |  959.94    | \n",
       "| 2016-11-30 |  959.94    | \n",
       "| 2016-10-31 |  976.39    | \n",
       "| 2016-09-30 | 1013.31    | \n",
       "| 2016-08-31 | 1051.53    | \n",
       "| 2016-07-31 | 1004.67    | \n",
       "| 2016-06-30 |  993.22    | \n",
       "| 2016-05-31 |  987.57    | \n",
       "| 2016-04-30 |  998.09    | \n",
       "| 2016-03-31 | 1020.90    | \n",
       "| 2016-02-29 | 1052.35    | \n",
       "| 2016-01-31 | 1011.25    | \n",
       "| 2015-12-31 |  932.32    | \n",
       "| 2015-11-30 |  932.32    | \n",
       "| 2015-10-31 |  933.58    | \n",
       "| 2015-09-30 |  951.78    | \n",
       "| 2015-08-31 |  956.66    | \n",
       "| 2015-07-31 |  938.33    | \n",
       "| 2015-06-30 |  929.18    | \n",
       "| 2015-05-31 |  946.79    | \n",
       "| 2015-04-30 | 1059.14    | \n",
       "| 2015-03-31 | 1045.96    | \n",
       "| 2015-02-28 |  966.85    | \n",
       "| 2015-01-31 |  911.60    | \n",
       "| ... | ... | \n",
       "| 1982-06-30 | 399.76     | \n",
       "| 1982-05-31 | 438.35     | \n",
       "| 1982-04-30 | 476.40     | \n",
       "| 1982-03-31 | 421.81     | \n",
       "| 1982-02-28 | 383.21     | \n",
       "| 1982-01-31 | 425.12     | \n",
       "| 1981-12-31 | 416.30     | \n",
       "| 1981-11-30 | 395.90     | \n",
       "| 1981-10-31 | 389.28     | \n",
       "| 1981-09-30 | 435.04     | \n",
       "| 1981-08-31 | 305.47     | \n",
       "| 1981-07-31 | 329.73     | \n",
       "| 1981-06-30 | 388.18     | \n",
       "| 1981-05-31 | 449.93     | \n",
       "| 1981-04-30 | 425.67     | \n",
       "| 1981-03-31 | 459.31     | \n",
       "| 1981-02-28 | 435.60     | \n",
       "| 1981-01-31 | 387.62     | \n",
       "| 1980-12-31 | 369.98     | \n",
       "| 1980-11-30 | 379.35     | \n",
       "| 1980-10-31 | 325.32     | \n",
       "| 1980-09-30 | 352.89     | \n",
       "| 1980-08-31 | 342.41     | \n",
       "| 1980-07-31 | 351.78     | \n",
       "| 1980-06-30 | 342.41     | \n",
       "| 1980-05-31 | 444.97     | \n",
       "| 1980-04-30 | 395.90     | \n",
       "| 1980-03-31 | 422.91     | \n",
       "| 1980-02-29 | 372.19     | \n",
       "| 1980-01-31 | 401.96     | \n",
       "\n",
       "\n"
      ],
      "text/plain": [
       "    Date       Value  \n",
       "1   2017-06-30 1098.07\n",
       "2   2017-05-31 1083.05\n",
       "3   2017-04-30 1063.54\n",
       "4   2017-03-31 1075.25\n",
       "5   2017-02-28 1040.10\n",
       "6   2017-01-31  974.03\n",
       "7   2016-12-31  959.94\n",
       "8   2016-11-30  959.94\n",
       "9   2016-10-31  976.39\n",
       "10  2016-09-30 1013.31\n",
       "11  2016-08-31 1051.53\n",
       "12  2016-07-31 1004.67\n",
       "13  2016-06-30  993.22\n",
       "14  2016-05-31  987.57\n",
       "15  2016-04-30  998.09\n",
       "16  2016-03-31 1020.90\n",
       "17  2016-02-29 1052.35\n",
       "18  2016-01-31 1011.25\n",
       "19  2015-12-31  932.32\n",
       "20  2015-11-30  932.32\n",
       "21  2015-10-31  933.58\n",
       "22  2015-09-30  951.78\n",
       "23  2015-08-31  956.66\n",
       "24  2015-07-31  938.33\n",
       "25  2015-06-30  929.18\n",
       "26  2015-05-31  946.79\n",
       "27  2015-04-30 1059.14\n",
       "28  2015-03-31 1045.96\n",
       "29  2015-02-28  966.85\n",
       "30  2015-01-31  911.60\n",
       "... ...        ...    \n",
       "421 1982-06-30 399.76 \n",
       "422 1982-05-31 438.35 \n",
       "423 1982-04-30 476.40 \n",
       "424 1982-03-31 421.81 \n",
       "425 1982-02-28 383.21 \n",
       "426 1982-01-31 425.12 \n",
       "427 1981-12-31 416.30 \n",
       "428 1981-11-30 395.90 \n",
       "429 1981-10-31 389.28 \n",
       "430 1981-09-30 435.04 \n",
       "431 1981-08-31 305.47 \n",
       "432 1981-07-31 329.73 \n",
       "433 1981-06-30 388.18 \n",
       "434 1981-05-31 449.93 \n",
       "435 1981-04-30 425.67 \n",
       "436 1981-03-31 459.31 \n",
       "437 1981-02-28 435.60 \n",
       "438 1981-01-31 387.62 \n",
       "439 1980-12-31 369.98 \n",
       "440 1980-11-30 379.35 \n",
       "441 1980-10-31 325.32 \n",
       "442 1980-09-30 352.89 \n",
       "443 1980-08-31 342.41 \n",
       "444 1980-07-31 351.78 \n",
       "445 1980-06-30 342.41 \n",
       "446 1980-05-31 444.97 \n",
       "447 1980-04-30 395.90 \n",
       "448 1980-03-31 422.91 \n",
       "449 1980-02-29 372.19 \n",
       "450 1980-01-31 401.96 "
      ]
     },
     "metadata": {},
     "output_type": "display_data"
    }
   ],
   "source": [
    "Quandl(\"ODA/PBANSOP_USD\", api_key=\"2Tn6xx-X8y8ywzbtYPWZ\")\n",
    "x=Quandl(\"ODA/PBANSOP_USD\", api_key=\"2Tn6xx-X8y8ywzbtYPWZ\")"
   ]
  },
  {
   "cell_type": "code",
   "execution_count": 3,
   "metadata": {
    "collapsed": true
   },
   "outputs": [],
   "source": [
    "x=Quandl(\"ODA/PBANSOP_USD\", type=\"ts\")"
   ]
  },
  {
   "cell_type": "code",
   "execution_count": 4,
   "metadata": {},
   "outputs": [
    {
     "data": {
      "image/png": "[encoded data removed]",
      "text/plain": [
       "plot without title"
      ]
     },
     "metadata": {},
     "output_type": "display_data"
    }
   ],
   "source": [
    "plot(x)"
   ]
  },
  {
   "cell_type": "code",
   "execution_count": 5,
   "metadata": {},
   "outputs": [
    {
     "data": {
      "image/png": "[encoded data removed]",
      "text/plain": [
       "plot without title"
      ]
     },
     "metadata": {},
     "output_type": "display_data"
    }
   ],
   "source": [
    "plot(diff(x))"
   ]
  },
  {
   "cell_type": "code",
   "execution_count": 6,
   "metadata": {},
   "outputs": [
    {
     "data": {
      "image/png": "[encoded data removed]",
      "text/plain": [
       "plot without title"
      ]
     },
     "metadata": {},
     "output_type": "display_data"
    }
   ],
   "source": [
    "plot(log10(x))"
   ]
  },
  {
   "cell_type": "code",
   "execution_count": 7,
   "metadata": {},
   "outputs": [
    {
     "data": {
      "image/png": "[encoded data removed]",
      "text/plain": [
       "plot without title"
      ]
     },
     "metadata": {},
     "output_type": "display_data"
    }
   ],
   "source": [
    "plot(diff(log10(x)))"
   ]
  },
  {
   "cell_type": "code",
   "execution_count": 8,
   "metadata": {},
   "outputs": [
    {
     "data": {
      "image/png": "[encoded data removed]",
      "text/plain": [
       "Plot with title \"PACF Banana Price\""
      ]
     },
     "metadata": {},
     "output_type": "display_data"
    }
   ],
   "source": [
    "par(mfrow = c(1,2))\n",
    "acf(ts(diff(log10(x))),main='ACF Banana Price')\n",
    "pacf(ts(diff(log10(x))),main='PACF Banana Price')"
   ]
  },
  {
   "cell_type": "code",
   "execution_count": 9,
   "metadata": {},
   "outputs": [
    {
     "name": "stderr",
     "output_type": "stream",
     "text": [
      "Loading required package: forecast\n"
     ]
    },
    {
     "name": "stdout",
     "output_type": "stream",
     "text": [
      "Series: log10(x) \n",
      "ARIMA(4,1,2)(2,0,0)[12] \n",
      "\n",
      "Coefficients:\n",
      "          ar1     ar2      ar3      ar4      ma1      ma2    sar1    sar2\n",
      "      -0.0298  0.4044  -0.0457  -0.1940  -0.2782  -0.5398  0.1341  0.0721\n",
      "s.e.   0.1751  0.1214   0.0520   0.0518   0.1746   0.1660  0.0481  0.0489\n",
      "\n",
      "sigma^2 estimated as 0.003935:  log likelihood=609.59\n",
      "AIC=-1201.18   AICc=-1200.77   BIC=-1164.21\n",
      "\n",
      "Training set error measures:\n",
      "                      ME       RMSE        MAE        MPE    MAPE      MASE\n",
      "Training set 0.003533337 0.06209578 0.04489997 0.07883929 1.67392 0.5903512\n",
      "                     ACF1\n",
      "Training set -0.003467513\n"
     ]
    }
   ],
   "source": [
    "require(forecast)\n",
    "ARIMAfit = auto.arima(log10(x), approximation=FALSE,trace=FALSE)\n",
    "summary(ARIMAfit)"
   ]
  },
  {
   "cell_type": "code",
   "execution_count": 10,
   "metadata": {
    "scrolled": true
   },
   "outputs": [
    {
     "data": {
      "text/plain": [
       "$pred\n",
       "          Jan      Feb      Mar      Apr      May      Jun      Jul      Aug\n",
       "2017                                                       3.028372 3.023808\n",
       "2018 3.011764 3.017658 3.019269 3.018078 3.018704 3.019562 3.018111 3.018856\n",
       "2019 3.014858 3.017709 3.018967 3.018462 3.019113 3.019658 3.018578 3.018349\n",
       "2020 3.016945 3.017752 3.018037 3.017884 3.018016 3.018151                  \n",
       "          Sep      Oct      Nov      Dec\n",
       "2017 3.013755 3.007448 3.006318 3.006761\n",
       "2018 3.016309 3.014305 3.013640 3.013716\n",
       "2019 3.017282 3.016559 3.016389 3.016431\n",
       "2020                                    \n",
       "\n",
       "$se\n",
       "            Jan        Feb        Mar        Apr        May        Jun\n",
       "2017                                                                  \n",
       "2018 0.08946865 0.09006676 0.09079843 0.09169018 0.09271865 0.09371534\n",
       "2019 0.10426559 0.10527977 0.10630690 0.10734863 0.10839938 0.10943689\n",
       "2020 0.11892549 0.11998401 0.12104703 0.12211580 0.12318732 0.12424787\n",
       "            Jul        Aug        Sep        Oct        Nov        Dec\n",
       "2017 0.06272621 0.07627977 0.08413271 0.08778275 0.08845360 0.08915772\n",
       "2018 0.09630465 0.09820769 0.09985322 0.10121307 0.10225730 0.10330082\n",
       "2019 0.11137769 0.11297165 0.11442511 0.11571403 0.11680651 0.11789323\n",
       "2020                                                                  \n"
      ]
     },
     "metadata": {},
     "output_type": "display_data"
    },
    {
     "name": "stderr",
     "output_type": "stream",
     "text": [
      "Warning message in x(x):\n",
      "\"data set 'x' not found\""
     ]
    },
    {
     "ename": "ERROR",
     "evalue": "Error in curve(expr = x, from = from, to = to, xlim = xlim, ylab = ylab, : 'expr' did not evaluate to an object of length 'n'\n",
     "output_type": "error",
     "traceback": [
      "Error in curve(expr = x, from = from, to = to, xlim = xlim, ylab = ylab, : 'expr' did not evaluate to an object of length 'n'\nTraceback:\n",
      "1. plot(data, type = \"l\", xlim = c(1980, 2020))",
      "2. plot.function(data, type = \"l\", xlim = c(1980, 2020))",
      "3. curve(expr = x, from = from, to = to, xlim = xlim, ylab = ylab, \n .     ...)",
      "4. stop(\"'expr' did not evaluate to an object of length 'n'\")"
     ]
    }
   ],
   "source": [
    "par(mfrow = c(1,1))\n",
    "pred = predict(ARIMAfit, n.ahead = 36)\n",
    "pred\n",
    "plot(data,type='l',xlim=c(1980,2020))\n",
    "lines(10^(pred$pred),col='green')\n",
    "lines(10^(pred$pred+2*pred$se),col='orange')\n",
    "lines(10^(pred$pred-2*pred$se),col='orange')"
   ]
  },
  {
   "cell_type": "code",
   "execution_count": 11,
   "metadata": {},
   "outputs": [
    {
     "data": {
      "text/plain": [
       "$pred\n",
       "          Jan      Feb      Mar      Apr      May      Jun      Jul      Aug\n",
       "2017                                                       3.028372 3.023808\n",
       "2018 3.011764 3.017658 3.019269 3.018078 3.018704 3.019562 3.018111 3.018856\n",
       "2019 3.014858 3.017709 3.018967 3.018462 3.019113 3.019658 3.018578 3.018349\n",
       "2020 3.016945 3.017752 3.018037 3.017884 3.018016 3.018151                  \n",
       "          Sep      Oct      Nov      Dec\n",
       "2017 3.013755 3.007448 3.006318 3.006761\n",
       "2018 3.016309 3.014305 3.013640 3.013716\n",
       "2019 3.017282 3.016559 3.016389 3.016431\n",
       "2020                                    \n",
       "\n",
       "$se\n",
       "            Jan        Feb        Mar        Apr        May        Jun\n",
       "2017                                                                  \n",
       "2018 0.08946865 0.09006676 0.09079843 0.09169018 0.09271865 0.09371534\n",
       "2019 0.10426559 0.10527977 0.10630690 0.10734863 0.10839938 0.10943689\n",
       "2020 0.11892549 0.11998401 0.12104703 0.12211580 0.12318732 0.12424787\n",
       "            Jul        Aug        Sep        Oct        Nov        Dec\n",
       "2017 0.06272621 0.07627977 0.08413271 0.08778275 0.08845360 0.08915772\n",
       "2018 0.09630465 0.09820769 0.09985322 0.10121307 0.10225730 0.10330082\n",
       "2019 0.11137769 0.11297165 0.11442511 0.11571403 0.11680651 0.11789323\n",
       "2020                                                                  \n"
      ]
     },
     "metadata": {},
     "output_type": "display_data"
    },
    {
     "data": {
      "image/png": "[encoded data removed]",
      "text/plain": [
       "plot without title"
      ]
     },
     "metadata": {},
     "output_type": "display_data"
    }
   ],
   "source": [
    "par(mfrow = c(1,1))\n",
    "pred = predict(ARIMAfit, n.ahead = 36)\n",
    "pred\n",
    "plot(x,type='l',xlim=c(1980,2020))\n",
    "lines(10^(pred$pred),col='green')\n",
    "lines(10^(pred$pred+2*pred$se),col='orange')\n",
    "lines(10^(pred$pred-2*pred$se),col='orange')"
   ]
  },
  {
   "cell_type": "code",
   "execution_count": 12,
   "metadata": {},
   "outputs": [
    {
     "data": {
      "text/plain": [
       "$pred\n",
       "          Jan      Feb      Mar      Apr      May      Jun      Jul      Aug\n",
       "2017                                                       3.028372 3.023808\n",
       "2018 3.011764 3.017658 3.019269 3.018078 3.018704 3.019562 3.018111 3.018856\n",
       "2019 3.014858 3.017709 3.018967 3.018462 3.019113 3.019658 3.018578 3.018349\n",
       "2020 3.016945 3.017752 3.018037 3.017884 3.018016 3.018151                  \n",
       "          Sep      Oct      Nov      Dec\n",
       "2017 3.013755 3.007448 3.006318 3.006761\n",
       "2018 3.016309 3.014305 3.013640 3.013716\n",
       "2019 3.017282 3.016559 3.016389 3.016431\n",
       "2020                                    \n",
       "\n",
       "$se\n",
       "            Jan        Feb        Mar        Apr        May        Jun\n",
       "2017                                                                  \n",
       "2018 0.08946865 0.09006676 0.09079843 0.09169018 0.09271865 0.09371534\n",
       "2019 0.10426559 0.10527977 0.10630690 0.10734863 0.10839938 0.10943689\n",
       "2020 0.11892549 0.11998401 0.12104703 0.12211580 0.12318732 0.12424787\n",
       "            Jul        Aug        Sep        Oct        Nov        Dec\n",
       "2017 0.06272621 0.07627977 0.08413271 0.08778275 0.08845360 0.08915772\n",
       "2018 0.09630465 0.09820769 0.09985322 0.10121307 0.10225730 0.10330082\n",
       "2019 0.11137769 0.11297165 0.11442511 0.11571403 0.11680651 0.11789323\n",
       "2020                                                                  \n"
      ]
     },
     "metadata": {},
     "output_type": "display_data"
    },
    {
     "data": {
      "image/png": "[encoded data removed]",
      "text/plain": [
       "plot without title"
      ]
     },
     "metadata": {},
     "output_type": "display_data"
    }
   ],
   "source": [
    "par(mfrow = c(1,1))\n",
    "pred = predict(ARIMAfit, n.ahead = 36)\n",
    "pred\n",
    "plot(x,type='l',xlim=c(2010,2020))\n",
    "lines(10^(pred$pred),col='green')\n",
    "lines(10^(pred$pred+2*pred$se),col='orange')\n",
    "lines(10^(pred$pred-2*pred$se),col='orange')"
   ]
  },
  {
   "cell_type": "code",
   "execution_count": 13,
   "metadata": {},
   "outputs": [
    {
     "data": {
      "image/png": "[encoded data removed]",
      "text/plain": [
       "Plot with title \"PACF Residual\""
      ]
     },
     "metadata": {},
     "output_type": "display_data"
    }
   ],
   "source": [
    "par(mfrow=c(1,2))\n",
    "acf(ts(ARIMAfit$residuals),main='ACF Residual')\n",
    "pacf(ts(ARIMAfit$residuals),main='PACF Residual')"
   ]
  },
  {
   "cell_type": "code",
   "execution_count": null,
   "metadata": {
    "collapsed": true
   },
   "outputs": [],
   "source": []
  }
 ],
 "metadata": {
  "kernelspec": {
   "display_name": "R",
   "language": "R",
   "name": "ir"
  },
  "language_info": {
   "codemirror_mode": "r",
   "file_extension": ".r",
   "mimetype": "text/x-r-source",
   "name": "R",
   "pygments_lexer": "r",
   "version": "3.4.2"
  }
 },
 "nbformat": 4,
 "nbformat_minor": 2
}
